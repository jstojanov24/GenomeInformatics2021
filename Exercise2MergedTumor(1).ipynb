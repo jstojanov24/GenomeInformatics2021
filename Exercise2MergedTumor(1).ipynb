{
 "cells": [
  {
   "cell_type": "code",
   "execution_count": 36,
   "metadata": {},
   "outputs": [
    {
     "name": "stdout",
     "output_type": "stream",
     "text": [
      "Requirement already satisfied: pysam in /opt/conda/lib/python3.8/site-packages (0.16.0.1)\n",
      "Note: you may need to restart the kernel to use updated packages.\n"
     ]
    }
   ],
   "source": [
    "pip install pysam"
   ]
  },
  {
   "cell_type": "code",
   "execution_count": 37,
   "metadata": {},
   "outputs": [],
   "source": [
    "import pysam as ps"
   ]
  },
  {
   "cell_type": "code",
   "execution_count": 38,
   "metadata": {},
   "outputs": [],
   "source": [
    "sam_file = ps.AlignmentFile(\"merged-tumor.bam\",\"rb\")"
   ]
  },
  {
   "cell_type": "code",
   "execution_count": 39,
   "metadata": {},
   "outputs": [
    {
     "name": "stdout",
     "output_type": "stream",
     "text": [
      "C0HVYACXX120402:7:1207:5722:57044\t1187\t20\t9483248\t27\t76M\t20\t9483381\t76\tTTTTCAAACAGTATCTATGCCTGCCAAATGTGAACATATAAAAAAAAACCAGAATGTGCCATTCTGATTTAAACTG\tarray('B', [28, 28, 27, 29, 31, 30, 31, 31, 29, 31, 35, 30, 29, 31, 34, 30, 29, 23, 41, 32, 20, 30, 29, 34, 34, 29, 30, 31, 30, 30, 30, 33, 33, 26, 39, 12, 25, 19, 32, 30, 35, 28, 35, 33, 23, 33, 35, 36, 30, 38, 33, 41, 34, 35, 31, 33, 23, 30, 30, 36, 27, 32, 29, 34, 35, 41, 33, 31, 33, 29, 32, 32, 31, 31, 31, 34])\t[('XA', 'GL000217.1,-110754,76M,1;'), ('BD', 'NNNNNNNNNNNNNNNNNNNNNNNNNNNNNNNNNNNNNNNNNNNNNNNNNNNNNNNNNNNNNNNNNNNNNNNNNNNN'), ('MD', '76'), ('RG', '1'), ('BI', 'NNNNNNNNNNNNNNNNNNNNNNNNNNNNNNNNNNNNNNNNNNNNNNNNNNNNNNNNNNNNNNNNNNNNNNNNNNNN'), ('NM', 0), ('MQ', 27), ('AS', 76), ('XS', 71)]\n",
      "\n",
      "\n",
      "['__class__', '__copy__', '__deepcopy__', '__delattr__', '__dir__', '__doc__', '__eq__', '__format__', '__ge__', '__getattribute__', '__gt__', '__hash__', '__init__', '__init_subclass__', '__le__', '__lt__', '__ne__', '__new__', '__pyx_vtable__', '__reduce__', '__reduce_ex__', '__repr__', '__setattr__', '__setstate__', '__sizeof__', '__str__', '__subclasshook__', 'aend', 'alen', 'aligned_pairs', 'bin', 'blocks', 'cigar', 'cigarstring', 'cigartuples', 'compare', 'flag', 'from_dict', 'fromstring', 'get_aligned_pairs', 'get_blocks', 'get_cigar_stats', 'get_forward_qualities', 'get_forward_sequence', 'get_overlap', 'get_reference_positions', 'get_reference_sequence', 'get_tag', 'get_tags', 'has_tag', 'header', 'infer_query_length', 'infer_read_length', 'inferred_length', 'is_duplicate', 'is_paired', 'is_proper_pair', 'is_qcfail', 'is_read1', 'is_read2', 'is_reverse', 'is_secondary', 'is_supplementary', 'is_unmapped', 'isize', 'mapping_quality', 'mapq', 'mate_is_reverse', 'mate_is_unmapped', 'mpos', 'mrnm', 'next_reference_id', 'next_reference_name', 'next_reference_start', 'opt', 'overlap', 'pnext', 'pos', 'positions', 'qend', 'qlen', 'qname', 'qqual', 'qstart', 'qual', 'query', 'query_alignment_end', 'query_alignment_length', 'query_alignment_qualities', 'query_alignment_sequence', 'query_alignment_start', 'query_length', 'query_name', 'query_qualities', 'query_sequence', 'reference_end', 'reference_id', 'reference_length', 'reference_name', 'reference_start', 'rlen', 'rname', 'rnext', 'seq', 'setTag', 'set_tag', 'set_tags', 'tags', 'template_length', 'tid', 'tlen', 'to_dict', 'to_string', 'tostring']\n",
      "\n",
      "\n",
      "1187\n",
      "\n",
      "\n"
     ]
    }
   ],
   "source": [
    "# Take the first read\n",
    "first_read = None\n",
    "for read in sam_file: \n",
    "    first_read = read\n",
    "    break\n",
    "\n",
    "print(first_read)\n",
    "print(\"\\n\")\n",
    "\n",
    "#Inspect the fields in the AlignedSegment\n",
    "print(dir(first_read))\n",
    "print(\"\\n\")\n",
    "\n",
    "#Inspect the flag field\n",
    "print(first_read.flag)\n",
    "print(\"\\n\")\n",
    "    "
   ]
  },
  {
   "cell_type": "code",
   "execution_count": 40,
   "metadata": {},
   "outputs": [],
   "source": [
    "import random"
   ]
  },
  {
   "cell_type": "code",
   "execution_count": 41,
   "metadata": {},
   "outputs": [
    {
     "name": "stdout",
     "output_type": "stream",
     "text": [
      "Some flags\n",
      "\n",
      "163\n",
      "\n",
      "\n",
      "99\n",
      "\n",
      "\n",
      "99\n",
      "\n",
      "\n",
      "99\n",
      "\n",
      "\n",
      "163\n",
      "\n",
      "\n",
      "99\n",
      "\n",
      "\n",
      "1123\n",
      "\n",
      "\n"
     ]
    }
   ],
   "source": [
    "#Check out the flag for some reads\n",
    "num_to_read = random.randint(1,8)\n",
    "cnt = 0\n",
    "print(\"Some flags\\n\")\n",
    "for read in sam_file: \n",
    "    print(read.flag)\n",
    "    print(\"\\n\")\n",
    "    if (cnt == num_to_read):\n",
    "        break\n",
    "    cnt += 1\n",
    "        \n"
   ]
  },
  {
   "cell_type": "code",
   "execution_count": 42,
   "metadata": {},
   "outputs": [
    {
     "name": "stdout",
     "output_type": "stream",
     "text": [
      "\n",
      "Number of total reads:   \n",
      "2921621\n",
      "\n",
      "Number of unmapped reads:   \n",
      "17765\n",
      "\n",
      "Number of reads with 0 quality:   \n",
      "126628\n",
      "\n",
      "Average mapping quality for all the reads:   \n",
      "55.91386254411506\n",
      "\n",
      "Average mapping quality when 0 mapping quality has been filtered out:   \n",
      "58.447056933595185\n"
     ]
    }
   ],
   "source": [
    "#Number of unmapped reads in the file\n",
    "num_of_unmapped_reads      = 0\n",
    "num_of_total_reads         = 0\n",
    "num_with_mapping_quality_0 = 0\n",
    "sum_of_mapping_quality     = 0\n",
    "\n",
    "for read in sam_file:\n",
    "    num_of_total_reads +=1\n",
    "    if (read.is_unmapped):\n",
    "        num_of_unmapped_reads += 1\n",
    "    if (read.mapping_quality == 0):\n",
    "        num_with_mapping_quality_0 +=1\n",
    "    sum_of_mapping_quality += read.mapping_quality\n",
    "\n",
    "print(\"\\nNumber of total reads:   \")\n",
    "print(num_of_total_reads)\n",
    "print(\"\\nNumber of unmapped reads:   \")\n",
    "print(num_of_unmapped_reads)\n",
    "print(\"\\nNumber of reads with 0 quality:   \")\n",
    "print(num_with_mapping_quality_0)\n",
    "print(\"\\nAverage mapping quality for all the reads:   \")\n",
    "print(sum_of_mapping_quality/num_of_total_reads)\n",
    "print(\"\\nAverage mapping quality when 0 mapping quality has been filtered out:   \")\n",
    "print(sum_of_mapping_quality/(num_of_total_reads-num_with_mapping_quality_0))\n",
    "\n",
    "    "
   ]
  },
  {
   "cell_type": "code",
   "execution_count": 34,
   "metadata": {},
   "outputs": [],
   "source": [
    "sam_file.close()"
   ]
  },
  {
   "cell_type": "code",
   "execution_count": null,
   "metadata": {},
   "outputs": [],
   "source": []
  }
 ],
 "metadata": {
  "kernelspec": {
   "display_name": "Python 3",
   "language": "python",
   "name": "python3"
  },
  "language_info": {
   "codemirror_mode": {
    "name": "ipython",
    "version": 3
   },
   "file_extension": ".py",
   "mimetype": "text/x-python",
   "name": "python",
   "nbconvert_exporter": "python",
   "pygments_lexer": "ipython3",
   "version": "3.8.3"
  }
 },
 "nbformat": 4,
 "nbformat_minor": 4
}
